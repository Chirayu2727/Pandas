{
 "cells": [
  {
   "cell_type": "code",
   "execution_count": 3,
   "id": "e5d775e4",
   "metadata": {},
   "outputs": [
    {
     "name": "stdout",
     "output_type": "stream",
     "text": [
      "1    abhi\n",
      "7     raj\n",
      "2     ram\n",
      "dtype: object\n"
     ]
    }
   ],
   "source": [
    "import pandas as pd\n",
    "\n",
    "a = [1, 7, 2]\n",
    "l=[\"abhi\",\"raj\",\"ram\"]\n",
    "\n",
    "myvar = pd.Series(l,a)\n",
    "\n",
    "print(myvar)                #printing series"
   ]
  },
  {
   "cell_type": "code",
   "execution_count": null,
   "id": "1c83f9ce",
   "metadata": {},
   "outputs": [],
   "source": []
  }
 ],
 "metadata": {
  "kernelspec": {
   "display_name": "Python 3 (ipykernel)",
   "language": "python",
   "name": "python3"
  },
  "language_info": {
   "codemirror_mode": {
    "name": "ipython",
    "version": 3
   },
   "file_extension": ".py",
   "mimetype": "text/x-python",
   "name": "python",
   "nbconvert_exporter": "python",
   "pygments_lexer": "ipython3",
   "version": "3.11.3"
  }
 },
 "nbformat": 4,
 "nbformat_minor": 5
}
